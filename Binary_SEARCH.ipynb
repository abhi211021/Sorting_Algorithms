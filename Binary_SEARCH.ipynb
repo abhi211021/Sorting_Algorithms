{
 "cells": [
  {
   "cell_type": "markdown",
   "metadata": {},
   "source": [
    "# Binary Search"
   ]
  },
  {
   "cell_type": "code",
   "execution_count": 3,
   "metadata": {},
   "outputs": [
    {
     "name": "stdout",
     "output_type": "stream",
     "text": [
      "2\n"
     ]
    }
   ],
   "source": [
    "def binary_search(sequence,item):\n",
    "    begin_index=0\n",
    "    end_index=len(sequence)-1\n",
    "    while begin_index<=end_index:\n",
    "        midpoint= begin_index+int((end_index-begin_index)/2)\n",
    "        midpoint_value=sequence[midpoint]\n",
    "        if midpoint_value==item:\n",
    "            return midpoint\n",
    "        elif item<midpoint_value:\n",
    "            end_index=midpoint-1\n",
    "        else:\n",
    "            begin_index=midpoint+1\n",
    "    return None\n",
    "sequence_a=[1,2,3,4,5,6,7,8]\n",
    "item_a=3\n",
    "print(binary_search(sequence_a,item_a))"
   ]
  },
  {
   "cell_type": "code",
   "execution_count": null,
   "metadata": {},
   "outputs": [],
   "source": []
  }
 ],
 "metadata": {
  "kernelspec": {
   "display_name": "Python 3",
   "language": "python",
   "name": "python3"
  },
  "language_info": {
   "codemirror_mode": {
    "name": "ipython",
    "version": 3
   },
   "file_extension": ".py",
   "mimetype": "text/x-python",
   "name": "python",
   "nbconvert_exporter": "python",
   "pygments_lexer": "ipython3",
   "version": "3.8.3"
  }
 },
 "nbformat": 4,
 "nbformat_minor": 4
}
